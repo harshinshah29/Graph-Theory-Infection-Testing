{
 "cells": [
  {
   "cell_type": "code",
   "execution_count": 1,
   "metadata": {},
   "outputs": [],
   "source": [
    "import os\n",
    "import pickle\n",
    "import numpy as np\n",
    "\n",
    "from algos import *\n",
    "from infect import infect\n",
    "from sbm import SBM"
   ]
  },
  {
   "cell_type": "code",
   "execution_count": 5,
   "metadata": {},
   "outputs": [
    {
     "name": "stdout",
     "output_type": "stream",
     "text": [
      "4\n",
      "1\n",
      "{'Qtesting1': {'num_tests': 13.0, 'stages': 2}, 'Binary Splitting': {'num_tests': 46, 'stages': 46, 'st': array([1., 0., 1., 1., 0., 1., 1., 0., 1., 1., 1., 1., 0., 0., 1., 0.])}}\n"
     ]
    }
   ],
   "source": [
    "\n",
    "\n",
    "\n",
    "\n",
    "def compare_testing_methods(N, p0=0.5):\n",
    "    # Simulate individual infections based on the probability p0\n",
    "    individuals = np.random.rand(N) < p0\n",
    "    #individuals = np.array([0,0,0,1,0,0,0,0])\n",
    "\n",
    "    # Apply Qtesting1\n",
    "    num_tests_q1, stages_q1 = Qtesting1(individuals.astype(int))\n",
    "\n",
    "    # Apply binary splitting\n",
    "    num_tests_binary, stages_binary, st_bs = binary_splitting(individuals.astype(int))\n",
    "\n",
    "    return {\n",
    "        'Qtesting1': {'num_tests': num_tests_q1, 'stages': stages_q1},\n",
    "        'Binary Splitting': {'num_tests': num_tests_binary, 'stages': stages_binary, 'st': st_bs}\n",
    "    }\n",
    "\n",
    "# Example of running a simulation\n",
    "result = compare_testing_methods(N=16, p0=0.5)\n",
    "print(result)\n"
   ]
  },
  {
   "cell_type": "code",
   "execution_count": null,
   "metadata": {},
   "outputs": [],
   "source": [
    "def iter(N,M,q0,q1,p0,p1,time_steps,num_sims,method,dataset='sbm'):\n",
    "\n",
    "    name = dataset+'N'+str(N)+'_M'+str(M)+'_SIM'+str(num_sims)+'_step'+str(time_steps)+'_q0'+str(q0)+'_q1'+str(q1)+'_p0'+str(p0)+'_p1'+str(p1)+method+'graphs.pkl'\n",
    "    if not os.path.isfile(name):\n",
    "        print('Generating synthetic dataset!')\n",
    "        Gs = np.zeros((num_sims,N,N))\n",
    "        Communities = dict()\n",
    "        data = dict()\n",
    "        Individuals = dict()\n",
    "        if dataset=='sbm':\n",
    "            for i in range(num_sims):\n",
    "                Gs[i] = SBM(N,M,q0,q1)\n",
    "                ###################################################\n",
    "                '''your code here'''\n",
    "                communities = []\n",
    "                ###################################################\n",
    "                Communities[i] = communities\n",
    "                Individuals[i] = infect(Gs[i],p0,p1,time_steps)\n",
    "        elif dataset=='iid':\n",
    "            for i in range(num_sims):\n",
    "                ###################################################\n",
    "                '''your code here'''\n",
    "                # Individuals[i] = \n",
    "                # Communities[i] =[[all individuals]]\n",
    "                ###################################################\n",
    "        data['graph'] = Gs\n",
    "        data['communities'] = Communities\n",
    "        data['individuals'] = Individuals\n",
    "        with open(name, 'wb') as infile:\n",
    "            pickle.dump(data,infile) \n",
    "    #         print('Dataset done!')\n",
    "\n",
    "\n",
    "    ###################################################\n",
    "    '''your code for initialization parameters if needed''' \n",
    "    fraction_ppl = 0\n",
    "    fraction_family = 0\n",
    "    fraction_ppl_in_family = 0\n",
    "    #num_tests = \n",
    "    #num_stages = \n",
    "    ###################################################\n",
    "        \n",
    "    if os.path.isfile(name):\n",
    "        with open(name, 'rb') as infile:\n",
    "            data = pickle.load(infile) \n",
    "        print('Data loaded!')\n",
    "    for i in range(num_sims):\n",
    "        if dataset=='synthetic':\n",
    "            G = data['graph'][i]\n",
    "            communities = data['communities'][i]\n",
    "            individuals = data['individuals'][i]\n",
    "        ###################################################\n",
    "        '''your code to calculate the statistics here''' \n",
    "\n",
    "        \n",
    "        ###################################################\n",
    "\n",
    "        # interleave the individuals\n",
    "        s = individuals.copy()\n",
    "        np.random.shuffle(s)\n",
    "        # binary\n",
    "        numtests_bs, num_stages_bs, _ = binary_splitting(s)\n",
    "        # algorithm 1\n",
    "        numtests_q1, num_stages_q1 = Qtesting1(s)\n",
    "        # algorithm 2\n",
    "        numtests_q2, num_stages_q2 = Qtesting2(s)\n",
    "        # community-aware\n",
    "        numtests_q1_c, num_stages_q1_c = Qtesting1_comm_aware(individuals.copy(),communities)\n",
    "        # community-aware\n",
    "        numtests_q2_c, num_stages_q2_c = Qtesting2_comm_aware(individuals.copy(),communities)\n",
    "\n",
    "    ###################################################\n",
    "    '''your code to calculate the statistics here''' \n",
    "    '''Do not forget to take the average'''\n",
    "\n",
    "    ###################################################\n",
    "            \n",
    "\n",
    "    return fraction_ppl, fraction_family, fraction_ppl_in_family, num_tests, num_stages"
   ]
  },
  {
   "cell_type": "markdown",
   "metadata": {},
   "source": [
    "<div class=\"alert alert-warning\">\n",
    "<b>Task 1 </b> \n",
    "Plot how the fraction of infected people, the percentage of infected communities, and the average percentage of infected people in each community change with the each setting for the synthetic dataset described in the following table and comment on the results. Average over at least $100$ SBM network realization.     \n",
    "\n",
    "</div>"
   ]
  },
  {
   "cell_type": "markdown",
   "metadata": {},
   "source": [
    "| N | M | q0, q1 | p0 | p1 |time steps  |\n",
    "|---|---|--------|----|----|------------|\n",
    "|256| 16| (1,0)  |0.001|[0.05:1]|2|\n",
    "|   | 16|(0.9, 0.1)  | 0.001| [0.05:1]|2     |\n",
    "|   | 16 |(0.5, 0.2)  | 0.001| [0.05:1]|2     |"
   ]
  },
  {
   "cell_type": "code",
   "execution_count": null,
   "metadata": {},
   "outputs": [
    {
     "ename": "KeyboardInterrupt",
     "evalue": "",
     "output_type": "error",
     "traceback": [
      "\u001b[0;31m---------------------------------------------------------------------------\u001b[0m",
      "\u001b[0;31mKeyboardInterrupt\u001b[0m                         Traceback (most recent call last)",
      "Cell \u001b[0;32mIn[3], line 52\u001b[0m\n\u001b[1;32m     50\u001b[0m \u001b[38;5;66;03m# Run simulations for each q0, q1 configuration\u001b[39;00m\n\u001b[1;32m     51\u001b[0m \u001b[38;5;28;01mfor\u001b[39;00m q0, q1 \u001b[38;5;129;01min\u001b[39;00m q0_q1_pairs:\n\u001b[0;32m---> 52\u001b[0m     results \u001b[38;5;241m=\u001b[39m \u001b[43msimulate_infections\u001b[49m\u001b[43m(\u001b[49m\u001b[43mN\u001b[49m\u001b[43m,\u001b[49m\u001b[43m \u001b[49m\u001b[43mM\u001b[49m\u001b[43m,\u001b[49m\u001b[43m \u001b[49m\u001b[43mq0\u001b[49m\u001b[43m,\u001b[49m\u001b[43m \u001b[49m\u001b[43mq1\u001b[49m\u001b[43m,\u001b[49m\u001b[43m \u001b[49m\u001b[43mp0\u001b[49m\u001b[43m,\u001b[49m\u001b[43m \u001b[49m\u001b[43mp1_values\u001b[49m\u001b[43m,\u001b[49m\u001b[43m \u001b[49m\u001b[43mtime_steps\u001b[49m\u001b[43m,\u001b[49m\u001b[43m \u001b[49m\u001b[43mrealizations\u001b[49m\u001b[43m)\u001b[49m\n\u001b[1;32m     54\u001b[0m     \u001b[38;5;66;03m# Plotting results for each configuration\u001b[39;00m\n\u001b[1;32m     55\u001b[0m     \u001b[38;5;28;01mfor\u001b[39;00m i, (fraction, percent_communities, avg_community) \u001b[38;5;129;01min\u001b[39;00m \u001b[38;5;28menumerate\u001b[39m(results):\n",
      "Cell \u001b[0;32mIn[3], line 12\u001b[0m, in \u001b[0;36msimulate_infections\u001b[0;34m(N, M, q0, q1, p0, p1_values, time_steps, realizations)\u001b[0m\n\u001b[1;32m      9\u001b[0m avg_infected_per_community \u001b[38;5;241m=\u001b[39m []\n\u001b[1;32m     11\u001b[0m \u001b[38;5;28;01mfor\u001b[39;00m _ \u001b[38;5;129;01min\u001b[39;00m \u001b[38;5;28mrange\u001b[39m(realizations):\n\u001b[0;32m---> 12\u001b[0m     G \u001b[38;5;241m=\u001b[39m \u001b[43mSBM\u001b[49m\u001b[43m(\u001b[49m\u001b[43mN\u001b[49m\u001b[43m,\u001b[49m\u001b[43m \u001b[49m\u001b[43mM\u001b[49m\u001b[43m,\u001b[49m\u001b[43m \u001b[49m\u001b[43mq0\u001b[49m\u001b[43m,\u001b[49m\u001b[43m \u001b[49m\u001b[43mq1\u001b[49m\u001b[43m)\u001b[49m\n\u001b[1;32m     13\u001b[0m     initial_infection \u001b[38;5;241m=\u001b[39m infect(G, p0, p1, time_steps)\n\u001b[1;32m     15\u001b[0m     total_infected \u001b[38;5;241m=\u001b[39m np\u001b[38;5;241m.\u001b[39msum(initial_infection)\n",
      "File \u001b[0;32m~/Downloads/Graph Theory in Engineering/sbm.py:36\u001b[0m, in \u001b[0;36mSBM\u001b[0;34m(N, M, q0, q1)\u001b[0m\n\u001b[1;32m     34\u001b[0m         end_idx \u001b[38;5;241m=\u001b[39m np\u001b[38;5;241m.\u001b[39msearchsorted(community_bounds, j, side\u001b[38;5;241m=\u001b[39m\u001b[38;5;124m'\u001b[39m\u001b[38;5;124mright\u001b[39m\u001b[38;5;124m'\u001b[39m)\n\u001b[1;32m     35\u001b[0m         \u001b[38;5;28;01mif\u001b[39;00m start_idx \u001b[38;5;241m!=\u001b[39m end_idx:\n\u001b[0;32m---> 36\u001b[0m             \u001b[38;5;28;01mif\u001b[39;00m \u001b[43mnp\u001b[49m\u001b[38;5;241;43m.\u001b[39;49m\u001b[43mrandom\u001b[49m\u001b[38;5;241;43m.\u001b[39;49m\u001b[43mrand\u001b[49m\u001b[43m(\u001b[49m\u001b[43m)\u001b[49m \u001b[38;5;241m<\u001b[39m q1:\n\u001b[1;32m     37\u001b[0m                 G[i, j] \u001b[38;5;241m=\u001b[39m G[j, i] \u001b[38;5;241m=\u001b[39m \u001b[38;5;241m1\u001b[39m\n\u001b[1;32m     41\u001b[0m \u001b[38;5;66;03m#################################################\u001b[39;00m\n",
      "\u001b[0;31mKeyboardInterrupt\u001b[0m: "
     ]
    }
   ],
   "source": [
    "import numpy as np\n",
    "import matplotlib.pyplot as plt\n",
    "\n",
    "def simulate_infections(N, M, q0, q1, p0, p1_values, time_steps, realizations):\n",
    "    results = []\n",
    "    for p1 in p1_values:\n",
    "        fraction_infected = []\n",
    "        percent_infected_communities = []\n",
    "        avg_infected_per_community = []\n",
    "\n",
    "        for _ in range(realizations):\n",
    "            G = SBM(N, M, q0, q1)\n",
    "            initial_infection = infect(G, p0, p1, time_steps)\n",
    "\n",
    "            total_infected = np.sum(initial_infection)\n",
    "            fraction_infected.append(total_infected / N)\n",
    "            \n",
    "            community_sizes = [N // M] * M\n",
    "            for i in range(N % M):\n",
    "                community_sizes[i] += 1\n",
    "\n",
    "            start = 0\n",
    "            infected_communities = 0\n",
    "            community_infections = []\n",
    "\n",
    "            for size in community_sizes:\n",
    "                end = start + size\n",
    "                community_infected = np.sum(initial_infection[start:end])\n",
    "                if community_infected > 0:\n",
    "                    infected_communities += 1\n",
    "                community_infections.append(community_infected / size)\n",
    "                start = end\n",
    "\n",
    "            percent_infected_communities.append(infected_communities / M)\n",
    "            avg_infected_per_community.append(np.mean(community_infections))\n",
    "        \n",
    "        results.append((np.mean(fraction_infected), np.mean(percent_infected_communities), np.mean(avg_infected_per_community)))\n",
    "\n",
    "    return results\n",
    "\n",
    "# Parameters\n",
    "N = 256\n",
    "M = 16\n",
    "q0_q1_pairs = [(1, 0), (0.9, 0.1), (0.5, 0.2)]\n",
    "p0 = 0.001\n",
    "p1_values = np.linspace(0.05, 1, 20)  # From 0.05 to 1, evenly spaced 20 values\n",
    "time_steps = 2\n",
    "realizations = 100\n",
    "\n",
    "# Run simulations for each q0, q1 configuration\n",
    "for q0, q1 in q0_q1_pairs:\n",
    "    results = simulate_infections(N, M, q0, q1, p0, p1_values, time_steps, realizations)\n",
    "    \n",
    "    # Plotting results for each configuration\n",
    "    for i, (fraction, percent_communities, avg_community) in enumerate(results):\n",
    "        labels = ['Fraction Infected', 'Percent Infected Communities', 'Average Infected per Community']\n",
    "        plt.figure()\n",
    "        plt.bar(labels, [fraction, percent_communities, avg_community])\n",
    "        plt.ylabel('Metrics')\n",
    "        plt.title(f'Infection Metrics for q0={q0}, q1={q1}, p1={p1_values[i]}')\n",
    "        plt.show()"
   ]
  },
  {
   "cell_type": "code",
   "execution_count": null,
   "metadata": {},
   "outputs": [
    {
     "name": "stdout",
     "output_type": "stream",
     "text": [
      "Results: (0.0044921875, 0.011875, 0.0044921875)\n"
     ]
    }
   ],
   "source": [
    "print(\"Results:\", results)\n"
   ]
  },
  {
   "cell_type": "code",
   "execution_count": null,
   "metadata": {},
   "outputs": [
    {
     "name": "stdout",
     "output_type": "stream",
     "text": [
      "Fraction Infected: 0.55\n",
      "Average Infected per Community: 0.5304515899273964\n"
     ]
    }
   ],
   "source": [
    "import numpy as np\n",
    "\n",
    "def simulate_metrics(G, infected_status):\n",
    "    N = len(infected_status)\n",
    "    total_infected = np.sum(infected_status)\n",
    "    fraction_infected = total_infected / N  # Total fraction of infected individuals\n",
    "\n",
    "    # Assuming community assignments are known\n",
    "    community_assignments = np.random.randint(0, M, size=N)  # Example: Random assignment to M communities\n",
    "    community_infected = np.zeros(M)\n",
    "    community_sizes = np.zeros(M)\n",
    "\n",
    "    for i in range(N):\n",
    "        community = community_assignments[i]\n",
    "        community_sizes[community] += 1\n",
    "        if infected_status[i] == 1:\n",
    "            community_infected[community] += 1\n",
    "\n",
    "    average_infected_per_community = np.mean(community_infected / community_sizes)\n",
    "\n",
    "    return fraction_infected, average_infected_per_community\n",
    "\n",
    "# Example use\n",
    "N = 100\n",
    "M = 4  # Number of communities\n",
    "infected_status = np.random.randint(0, 2, size=N)  # Random infection status\n",
    "G = np.zeros((N, N))  # Placeholder for the actual adjacency matrix\n",
    "\n",
    "results = simulate_metrics(G, infected_status)\n",
    "print(\"Fraction Infected:\", results[0])\n",
    "print(\"Average Infected per Community:\", results[1])"
   ]
  },
  {
   "cell_type": "markdown",
   "metadata": {},
   "source": [
    "Consider $N=256$, and $M=16,64,128$. Use SBM with $q0=1$ and $q1=0$ to generate contact networks (disconnected cliques). For the infection model, use $p_0 = 0.001$ and $p_1 = [0.01:1]$ and the number of infection steps as $2$ . \n",
    "Average over 100 SBM network realizations."
   ]
  },
  {
   "cell_type": "markdown",
   "metadata": {},
   "source": [
    "<div class=\"alert alert-warning\">\n",
    "<b>Task 2 </b> \n",
    "Provide plots for i.i.d. infection probability that ranges from $p=0.01$ to $p=0.3$, and $N=256$.\n",
    "Compare the performance of tests $T_1$, $T_2$, and binary output tests. Do you observe a consistent performance? Can you explain your results? \n",
    "    \n",
    "</div>"
   ]
  },
  {
   "cell_type": "code",
   "execution_count": null,
   "metadata": {},
   "outputs": [],
   "source": []
  },
  {
   "cell_type": "markdown",
   "metadata": {},
   "source": [
    "<div class=\"alert alert-warning\">\n",
    "<b>Task 3 </b>  \n",
    "Provide plots that compare the performance of various testing techniques on the Stochastic Block Model (SBM) using the settings outlined in Table 2 and on real data. You may explore additional settings that could reveal significant insights for your custom algorithms. Interpret and explain the results you obtain. Your plots should include: (i) a plot demonstrating how the performance of different testing schemes varies as the family sizes change, (ii)a plot demonstrating how the performance of different testing schemes varies as the infection probability changes and (iii) a plot illustrating how infections concentrate within families in the SBM.\n",
    "</div>"
   ]
  },
  {
   "cell_type": "markdown",
   "metadata": {},
   "source": [
    "| N | M | q0, q1 | p0 | p1 |time steps  |\n",
    "|---|---|--------|----|----|------------|\n",
    "|256| 16| (0.9,0.1)  |0.001|[0.05:1]|2|\n",
    "|   | 64|(1, 0)  | 0.001| [0.05:1]|2     |\n",
    "|   | 64|(0.9, 0.1)  | 0.001| [0.05:1]|2     |\n",
    "|   | 64|(0.5, 0.2)  | 0.001| [0.05:1]|2     |\n",
    "|   | 128 |(0.9, 0.1)  | 0.001| [0.05:1]|2     |\n"
   ]
  },
  {
   "cell_type": "code",
   "execution_count": null,
   "metadata": {},
   "outputs": [],
   "source": [
    "N = 256\n",
    "M = 16\n",
    "q0 = 0.5\n",
    "q1 = 0.3\n",
    "\n",
    "time_steps = 2\n",
    "method = 'your method'"
   ]
  },
  {
   "cell_type": "code",
   "execution_count": null,
   "metadata": {},
   "outputs": [
    {
     "name": "stdout",
     "output_type": "stream",
     "text": [
      "Generating synthetic dataset!\n",
      "Data loaded!\n"
     ]
    },
    {
     "ename": "UnboundLocalError",
     "evalue": "cannot access local variable 'individuals' where it is not associated with a value",
     "output_type": "error",
     "traceback": [
      "\u001b[0;31m---------------------------------------------------------------------------\u001b[0m",
      "\u001b[0;31mUnboundLocalError\u001b[0m                         Traceback (most recent call last)",
      "Cell \u001b[0;32mIn[6], line 12\u001b[0m\n\u001b[1;32m     10\u001b[0m \u001b[38;5;28;01mfor\u001b[39;00m j \u001b[38;5;129;01min\u001b[39;00m \u001b[38;5;28mrange\u001b[39m(\u001b[38;5;241m1\u001b[39m,t\u001b[38;5;241m+\u001b[39m\u001b[38;5;241m1\u001b[39m):\n\u001b[1;32m     11\u001b[0m     p1 \u001b[38;5;241m=\u001b[39m j\u001b[38;5;241m/\u001b[39mt\n\u001b[0;32m---> 12\u001b[0m     fraction_ppl[j\u001b[38;5;241m-\u001b[39m\u001b[38;5;241m1\u001b[39m], fraction_clc[j\u001b[38;5;241m-\u001b[39m\u001b[38;5;241m1\u001b[39m], fraction_plp_in_clc[j\u001b[38;5;241m-\u001b[39m\u001b[38;5;241m1\u001b[39m], num_tests[j\u001b[38;5;241m-\u001b[39m\u001b[38;5;241m1\u001b[39m], num_stages[j\u001b[38;5;241m-\u001b[39m\u001b[38;5;241m1\u001b[39m]\u001b[38;5;241m=\u001b[39m \u001b[38;5;28;43miter\u001b[39;49m\u001b[43m(\u001b[49m\u001b[43mN\u001b[49m\u001b[43m,\u001b[49m\u001b[43mM\u001b[49m\u001b[43m,\u001b[49m\u001b[43mq0\u001b[49m\u001b[43m,\u001b[49m\u001b[43mq1\u001b[49m\u001b[43m,\u001b[49m\u001b[43mp0\u001b[49m\u001b[43m,\u001b[49m\u001b[43mp1\u001b[49m\u001b[43m,\u001b[49m\u001b[43mtime_steps\u001b[49m\u001b[43m,\u001b[49m\u001b[43mnum_sims\u001b[49m\u001b[43m,\u001b[49m\u001b[43mmethod\u001b[49m\u001b[43m,\u001b[49m\u001b[43mdataset\u001b[49m\u001b[38;5;241;43m=\u001b[39;49m\u001b[38;5;124;43m'\u001b[39;49m\u001b[38;5;124;43msbm\u001b[39;49m\u001b[38;5;124;43m'\u001b[39;49m\u001b[43m)\u001b[49m  \n",
      "Cell \u001b[0;32mIn[2], line 59\u001b[0m, in \u001b[0;36miter\u001b[0;34m(N, M, q0, q1, p0, p1, time_steps, num_sims, method, dataset)\u001b[0m\n\u001b[1;32m     53\u001b[0m \u001b[38;5;250m\u001b[39m\u001b[38;5;124;03m'''your code to calculate the statistics here'''\u001b[39;00m \n\u001b[1;32m     56\u001b[0m \u001b[38;5;66;03m###################################################\u001b[39;00m\n\u001b[1;32m     57\u001b[0m \n\u001b[1;32m     58\u001b[0m \u001b[38;5;66;03m# interleave the individuals\u001b[39;00m\n\u001b[0;32m---> 59\u001b[0m s \u001b[38;5;241m=\u001b[39m \u001b[43mindividuals\u001b[49m\u001b[38;5;241m.\u001b[39mcopy()\n\u001b[1;32m     60\u001b[0m np\u001b[38;5;241m.\u001b[39mrandom\u001b[38;5;241m.\u001b[39mshuffle(s)\n\u001b[1;32m     61\u001b[0m \u001b[38;5;66;03m# binary\u001b[39;00m\n",
      "\u001b[0;31mUnboundLocalError\u001b[0m: cannot access local variable 'individuals' where it is not associated with a value"
     ]
    }
   ],
   "source": [
    "# the simulation \n",
    "t = 10\n",
    "fraction_infected_ppl = np.zeros(t)\n",
    "fraction_infected_clc = np.zeros(t)\n",
    "fraction_infected_family = np.zeros(t)\n",
    "num_tests = np.zeros((t,3))\n",
    "num_stages = np.zeros((t,3))\n",
    "p0 = 0.001\n",
    "num_sims = 100\n",
    "for j in range(1,t+1):\n",
    "    p1 = j/t\n",
    "    fraction_ppl[j-1], fraction_clc[j-1], fraction_plp_in_clc[j-1], num_tests[j-1], num_stages[j-1]= iter(N,M,q0,q1,p0,p1,time_steps,num_sims,method,dataset='sbm')  \n",
    "       "
   ]
  },
  {
   "cell_type": "code",
   "execution_count": null,
   "metadata": {},
   "outputs": [],
   "source": [
    "p1s = np.arange(1,t+1)/t"
   ]
  },
  {
   "cell_type": "code",
   "execution_count": null,
   "metadata": {
    "scrolled": true
   },
   "outputs": [],
   "source": [
    "plt.figure(figsize=(6, 4), dpi=300)\n",
    "plt.rcParams.update({\n",
    "    'font.size': 12,\n",
    "    'font.family': 'sans-serif',\n",
    "    'font.sans-serif': 'Arial',\n",
    "    'axes.labelsize': 12,\n",
    "    'xtick.labelsize': 10,\n",
    "    'ytick.labelsize': 10\n",
    "})\n",
    "markers = ['.', ',','o','v','^','<','>']\n",
    "   \n",
    "plt.plot(p1s,num_tests[:,i],label='binary splitting',marker=markers[i])\n",
    "#########your code here###########\n",
    "\n",
    "plt.xlabel('Transmission probability: p1',fontsize=14)\n",
    "plt.ylabel('Expected number of tests',fontsize=14)\n",
    "plt.legend()\n",
    "plt.grid(True, linestyle='--', linewidth=0.5, color='gray', alpha=0.5)\n",
    "plt.legend(frameon=False, loc='best')\n",
    "plt.tight_layout()\n",
    "fig_name = 'RES_N'+str(N)+'_M'+str(M)+'SIM'+str(num_sims)+'step_'+str(time_steps)+'q0'+str(q0)+'q1'+str(q1)+'p0'+str(p0)+method+'GT.pdf'\n",
    "plt.savefig(fig_name, format='pdf', bbox_inches='tight')"
   ]
  },
  {
   "cell_type": "code",
   "execution_count": null,
   "metadata": {},
   "outputs": [],
   "source": [
    "plt.plot(p1s,fraction_ppl,label='Fraction of infected people')\n",
    "plt.plot(p1s,fraction_clc,label='Fraction of infected communities')\n",
    "plt.plot(p1s,fraction_plp_in_clc,label='Fraction of infected people in each community')\n",
    "plt.xlabel('Transmission probability: p1',fontsize=14)\n",
    "plt.ylabel('Infection stats',fontsize=14)\n",
    "plt.legend()\n",
    "plt.savefig('RES_N'+str(N)+'_M'+str(M)+'SIM'+str(num_sims)+'step_'+str(time_steps)+'q0'+str(q0)+'q1'+str(q1)+'p0'+str(p0)+method+'stats.pdf')"
   ]
  },
  {
   "cell_type": "code",
   "execution_count": null,
   "metadata": {},
   "outputs": [],
   "source": []
  }
 ],
 "metadata": {
  "kernelspec": {
   "display_name": "Python 3",
   "language": "python",
   "name": "python3"
  },
  "language_info": {
   "codemirror_mode": {
    "name": "ipython",
    "version": 3
   },
   "file_extension": ".py",
   "mimetype": "text/x-python",
   "name": "python",
   "nbconvert_exporter": "python",
   "pygments_lexer": "ipython3",
   "version": "3.11.3"
  }
 },
 "nbformat": 4,
 "nbformat_minor": 4
}
